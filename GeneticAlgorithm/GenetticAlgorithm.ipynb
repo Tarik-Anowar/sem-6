{
 "cells": [
  {
   "cell_type": "code",
   "execution_count": 168,
   "metadata": {},
   "outputs": [],
   "source": [
    "import numpy as np\n",
    "import random;\n"
   ]
  },
  {
   "cell_type": "code",
   "execution_count": 169,
   "metadata": {},
   "outputs": [],
   "source": [
    "POPULATION_SIZE = 20  # Adjusted population size\n",
    "NUM_GENERATIONS = 100\n",
    "CROSSOVER_PROBABILITY = 0.5\n",
    "MUTATION_RATE = 0.1\n",
    "rows = 20\n",
    "cols = 40"
   ]
  },
  {
   "cell_type": "code",
   "execution_count": 170,
   "metadata": {},
   "outputs": [
    {
     "name": "stdout",
     "output_type": "stream",
     "text": [
      "[0.1 0.2 0.3 0.4 0.4 0.6 0.3 0.7 0.5 0.5]\n"
     ]
    }
   ],
   "source": [
    "B_array = (1/10) * np.array(\n",
    "    [1, 2, 3, 4, 4, 6, 3, 7, 5, 5]\n",
    ").T\n",
    "print(B_array)"
   ]
  },
  {
   "cell_type": "code",
   "execution_count": 171,
   "metadata": {},
   "outputs": [],
   "source": [
    "C_array = np.array(\n",
    "    [[4.0, 1.0, 8.0, 6.0, 3.0, 2.0, 5.0, 8.0, 6.0, 7.0],\n",
    "     [4.0, 1.0, 8.0, 6.0, 7.0, 9.0, 3.0, 1.0, 2.0, 3.6],\n",
    "     [4.0, 1.0, 8.0, 6.0, 3.0, 2.0, 5.0, 8.0, 6.0, 7.0],\n",
    "     [4.0, 1.0, 8.0, 6.0, 7.0, 9.0, 3.0, 1.0, 2.0, 3.6]]\n",
    ")"
   ]
  },
  {
   "cell_type": "code",
   "execution_count": 172,
   "metadata": {},
   "outputs": [],
   "source": [
    "def generatePopulation():\n",
    "    random_sequence = np.random.randint(2, size=(rows, cols))\n",
    "    reshaped_sequence = random_sequence.reshape(rows, 4, -1)\n",
    "    int_values = np.sum(reshaped_sequence *\n",
    "                    (2 ** np.arange(10)[::-1]), axis=2)*(10/1023)\n",
    "    return random_sequence,int_values"
   ]
  },
  {
   "cell_type": "code",
   "execution_count": 173,
   "metadata": {},
   "outputs": [
    {
     "name": "stdout",
     "output_type": "stream",
     "text": [
      "[[5.76735093 3.39198436 5.14173998 4.41837732]\n",
      " [8.0058651  9.81427175 6.07038123 0.93841642]\n",
      " [1.86705767 9.50146628 2.56109482 4.13489736]\n",
      " [3.96871945 9.70674487 5.38611926 9.05180841]\n",
      " [7.14565005 4.81915934 1.91593353 5.01466276]\n",
      " [9.39393939 4.57478006 7.31182796 0.14662757]\n",
      " [9.61876833 7.43890518 3.33333333 6.62756598]\n",
      " [9.82404692 2.65884653 7.86901271 6.41251222]\n",
      " [1.0459433  9.38416422 7.46823069 7.73216031]\n",
      " [0.14662757 7.45845552 8.31867058 4.93646139]\n",
      " [0.73313783 2.05278592 4.1544477  1.46627566]\n",
      " [9.13978495 4.36950147 2.41446725 9.45259042]\n",
      " [1.56402737 2.40469208 1.52492669 8.97360704]\n",
      " [2.10166178 1.80840665 9.98044966 7.57575758]\n",
      " [0.14662757 8.60215054 5.66959922 5.57184751]\n",
      " [0.24437928 7.68328446 8.0742913  2.30694037]\n",
      " [7.028348   4.03714565 2.19941349 1.81818182]\n",
      " [5.44477028 2.99120235 8.12316716 3.48973607]\n",
      " [4.86803519 1.06549365 1.17302053 3.93939394]\n",
      " [0.49853372 7.83968719 0.18572825 4.94623656]]\n"
     ]
    }
   ],
   "source": [
    "random_sequence,int_values = generatePopulation()\n",
    "print(int_values)"
   ]
  },
  {
   "cell_type": "code",
   "execution_count": 174,
   "metadata": {},
   "outputs": [],
   "source": [
    "def fitness(X, C_array, B_array):\n",
    "    val = 0.0\n",
    "    m = len(C_array)\n",
    "    for i in range(m):\n",
    "        temp = 0.0\n",
    "        for j in range(3):\n",
    "            temp += (X[j] - C_array[j][i])**2 + B_array[i]\n",
    "        val += 1.0 / temp\n",
    "    val = -1*val\n",
    "    return val"
   ]
  },
  {
   "cell_type": "code",
   "execution_count": 175,
   "metadata": {},
   "outputs": [
    {
     "name": "stdout",
     "output_type": "stream",
     "text": [
      "sum = -2.8891250529495927\n",
      "[(0.0, -0.3599173542414661), (-0.3599173542414661, -0.5617240643490851), (-0.5617240643490851, -0.6395805586636711), (-0.6395805586636711, -0.7665103276140952), (-0.7665103276140952, -0.9199309593434808), (-0.9199309593434808, -1.0797541825035781), (-1.0797541825035781, -1.19225732082734), (-1.19225732082734, -1.2829804129491635), (-1.2829804129491635, -1.3566789483312554), (-1.3566789483312554, -1.4280387173515399), (-1.4280387173515399, -1.6114055202626314), (-1.6114055202626314, -1.717025488053417), (-1.717025488053417, -2.1271206722062237), (-2.1271206722062237, -2.1945429792266964), (-2.1945429792266964, -2.2707086156081195), (-2.2707086156081195, -2.344043538936015), (-2.344043538936015, -2.5118849900946207), (-2.5118849900946207, -2.67131394200493), (-2.67131394200493, -2.821504481704129), (-2.821504481704129, -2.8891250529495927)]\n"
     ]
    }
   ],
   "source": [
    "sum = 0.0\n",
    "spinner = []\n",
    "for x in int_values:\n",
    "    ans = fitness(x, C_array, B_array)\n",
    "    prev = sum\n",
    "    sum += ans\n",
    "    spinner.append((prev, sum))\n",
    "print(\"sum =\", sum)\n",
    "print(spinner)"
   ]
  },
  {
   "cell_type": "code",
   "execution_count": 176,
   "metadata": {},
   "outputs": [],
   "source": [
    "def spinnerFunnc():\n",
    "    indices = []\n",
    "    j = 4\n",
    "    for k in range(j):\n",
    "        i = 0\n",
    "        randomVal = random.randint(0,100)*(sum/100)\n",
    "        print(randomVal)\n",
    "        for sp in spinner:\n",
    "            if(sp[0]>randomVal>=sp[1]):\n",
    "                indices.append(i)\n",
    "                break\n",
    "            i+=1\n",
    "        print(\"i=\",i)\n",
    "    return indices\n"
   ]
  },
  {
   "cell_type": "code",
   "execution_count": 177,
   "metadata": {},
   "outputs": [
    {
     "name": "stdout",
     "output_type": "stream",
     "text": [
      "-2.282408791830178\n",
      "i= 15\n",
      "-1.5890187791222758\n",
      "i= 10\n",
      "-0.40447750741294297\n",
      "i= 1\n",
      "-0.6644987621784063\n",
      "i= 3\n",
      "[15, 10, 1, 3]\n"
     ]
    }
   ],
   "source": [
    "indices = spinnerFunnc()\n",
    "print(indices)"
   ]
  },
  {
   "cell_type": "code",
   "execution_count": 184,
   "metadata": {},
   "outputs": [],
   "source": [
    "def crossOver(indices, random_sequence):\n",
    "    children = []\n",
    "    cols = random_sequence.shape[1]  # Assuming cols is the length of the second dimension of random_sequence\n",
    "    i = 0\n",
    "    while i < len(indices):\n",
    "        index1 = indices[i]\n",
    "        index2 = indices[i + 1]\n",
    "        print(index1, index2)\n",
    "        i += 2\n",
    "        crossover_point = random.randint(0, cols)  # Assuming cols is defined\n",
    "        print(\"Crossover Point:\", crossover_point)\n",
    "        parent1 = random_sequence[index1]\n",
    "        print(type(parent1))\n",
    "        print(parent1)\n",
    "        parent2 = random_sequence[index2]\n",
    "        print(parent2)\n",
    "        child = parent1[:crossover_point] , parent2[crossover_point:]\n",
    "        children.append(child)\n",
    "    return children"
   ]
  },
  {
   "cell_type": "code",
   "execution_count": 182,
   "metadata": {},
   "outputs": [
    {
     "name": "stdout",
     "output_type": "stream",
     "text": [
      "[1 0 0 1 0 0 1 1 1 0 0 1 0 1 0 1 1 0 1 1 1 0 0 0 0 0 1 1 1 0 0 1 1 1 0 0 0\n",
      " 1 0 0]\n",
      "(20, 40)\n"
     ]
    }
   ],
   "source": [
    "print(random_sequence[0])\n",
    "print(random_sequence.shape)"
   ]
  },
  {
   "cell_type": "code",
   "execution_count": 185,
   "metadata": {},
   "outputs": [
    {
     "name": "stdout",
     "output_type": "stream",
     "text": [
      "15 10\n",
      "Crossover Point: 35\n",
      "<class 'numpy.ndarray'>\n",
      "[0 0 0 0 0 1 1 0 0 1 1 1 0 0 0 1 0 0 1 0 1 1 0 0 1 1 1 0 1 0 0 0 1 1 1 0 1\n",
      " 1 0 0]\n",
      "[0 0 0 1 0 0 1 0 1 1 0 0 1 1 0 1 0 0 1 0 0 1 1 0 1 0 1 0 0 1 0 0 1 0 0 1 0\n",
      " 1 1 0]\n",
      "1 3\n",
      "Crossover Point: 30\n",
      "<class 'numpy.ndarray'>\n",
      "[1 1 0 0 1 1 0 0 1 1 1 1 1 1 1 0 1 1 0 0 1 0 0 1 1 0 1 1 0 1 0 0 0 1 1 0 0\n",
      " 0 0 0]\n",
      "[0 1 1 0 0 1 0 1 1 0 1 1 1 1 1 0 0 0 0 1 1 0 0 0 1 0 0 1 1 1 1 1 1 0 0 1 1\n",
      " 1 1 0]\n"
     ]
    }
   ],
   "source": [
    "children = crossOver(indices,random_sequence)"
   ]
  },
  {
   "cell_type": "code",
   "execution_count": null,
   "metadata": {},
   "outputs": [],
   "source": []
  }
 ],
 "metadata": {
  "kernelspec": {
   "display_name": "Python 3",
   "language": "python",
   "name": "python3"
  },
  "language_info": {
   "codemirror_mode": {
    "name": "ipython",
    "version": 3
   },
   "file_extension": ".py",
   "mimetype": "text/x-python",
   "name": "python",
   "nbconvert_exporter": "python",
   "pygments_lexer": "ipython3",
   "version": "3.11.4"
  }
 },
 "nbformat": 4,
 "nbformat_minor": 2
}
